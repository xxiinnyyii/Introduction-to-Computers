{
  "nbformat": 4,
  "nbformat_minor": 0,
  "metadata": {
    "colab": {
      "provenance": [],
      "authorship_tag": "ABX9TyMSBXYMrxkwbqmAbe8QUH11",
      "include_colab_link": true
    },
    "kernelspec": {
      "name": "python3",
      "display_name": "Python 3"
    },
    "language_info": {
      "name": "python"
    }
  },
  "cells": [
    {
      "cell_type": "markdown",
      "metadata": {
        "id": "view-in-github",
        "colab_type": "text"
      },
      "source": [
        "<a href=\"https://colab.research.google.com/github/xxiinnyyii/Introduction-to-Computers/blob/main/0515.ipynb\" target=\"_parent\"><img src=\"https://colab.research.google.com/assets/colab-badge.svg\" alt=\"Open In Colab\"/></a>"
      ]
    },
    {
      "cell_type": "code",
      "execution_count": null,
      "metadata": {
        "colab": {
          "base_uri": "https://localhost:8080/"
        },
        "id": "yfdyWihDQo0v",
        "outputId": "8fdaa7dd-4092-44a8-edf3-c7ffa3418416"
      },
      "outputs": [
        {
          "output_type": "stream",
          "name": "stdout",
          "text": [
            "hi\n"
          ]
        }
      ],
      "source": [
        "print(\"hi\")"
      ]
    },
    {
      "cell_type": "code",
      "source": [
        "rain = str(input(\"今天會下雨嗎? \"))\n",
        "if rain == \"Y\" or rain == \"y\":\n",
        "  print(\"出門記得帶傘!\")\n",
        "elif rain == \"N\" or rain == \"n\":\n",
        "  print(\"不用帶傘\")\n",
        "else:\n",
        "  print(\"輸入不正確，請重新輸入!\")"
      ],
      "metadata": {
        "colab": {
          "base_uri": "https://localhost:8080/"
        },
        "id": "Ucs8LgzbQ1gE",
        "outputId": "9804c047-6004-460c-afec-12b429f789e7"
      },
      "execution_count": 12,
      "outputs": [
        {
          "output_type": "stream",
          "name": "stdout",
          "text": [
            "今天會下雨嗎? Y\n",
            "出門記得帶傘!\n"
          ]
        }
      ]
    },
    {
      "cell_type": "code",
      "source": [
        "tem = float(input('請輸入體溫: '))\n",
        "if tem >= 37.5:\n",
        "  print('體溫過高!')\n",
        "elif tem >= 37:\n",
        "  print('體溫略高!')\n",
        "elif tem >= 34:\n",
        "  print('體溫正常!')\n",
        "else:\n",
        "  print('體溫異常，請重新測量!')"
      ],
      "metadata": {
        "colab": {
          "base_uri": "https://localhost:8080/"
        },
        "id": "PGOtqwUdQ1i3",
        "outputId": "b18d10a4-5b3f-4932-cc7b-c54d806da4d2"
      },
      "execution_count": 28,
      "outputs": [
        {
          "output_type": "stream",
          "name": "stdout",
          "text": [
            "請輸入體溫: 36.5\n",
            "體溫正常!\n"
          ]
        }
      ]
    },
    {
      "cell_type": "code",
      "source": [
        "score = int(input('請輸入成績: '))\n",
        "if score >= 90:\n",
        "  print('A')\n",
        "elif score >= 80:\n",
        "  print('B')\n",
        "elif score >= 70:\n",
        "  print('C')\n",
        "elif score >= 60:\n",
        "  print('D')\n",
        "else:\n",
        "  print('E')"
      ],
      "metadata": {
        "colab": {
          "base_uri": "https://localhost:8080/"
        },
        "id": "bJ3aGfK1Q1mj",
        "outputId": "c6b0b67d-d849-499e-d2a0-fa36c7865e45"
      },
      "execution_count": 23,
      "outputs": [
        {
          "output_type": "stream",
          "name": "stdout",
          "text": [
            "請輸入成績: 100\n",
            "A\n"
          ]
        }
      ]
    },
    {
      "cell_type": "code",
      "source": [
        "season = int(input('請輸入月份: '))\n",
        "if season == 3 or season == 4 or season == 5:\n",
        "  print(season,'月是春天!')\n",
        "elif season == 6 or season == 7 or season == 8:\n",
        "  print(season,'月是夏天!')\n",
        "elif season == 9 or season == 10 or season == 11:\n",
        "  print(season,'月是秋天!')\n",
        "elif season == 12 or season == 1 or season == 2:\n",
        "  print(season,'月是冬天!')\n",
        "else:\n",
        "  print('月份不在範圍內!')"
      ],
      "metadata": {
        "colab": {
          "base_uri": "https://localhost:8080/"
        },
        "id": "0QkirvL3Q1o4",
        "outputId": "f323bf85-53eb-4997-9f12-1a2da7115c97"
      },
      "execution_count": 4,
      "outputs": [
        {
          "output_type": "stream",
          "name": "stdout",
          "text": [
            "請輸入月份: 7\n",
            "7 月是夏天!\n"
          ]
        }
      ]
    },
    {
      "cell_type": "code",
      "source": [
        "r = int(input('請輸入今年收入淨額: '))\n",
        "if r >= 2000000:\n",
        "  print('付稅金額:',r*0.3,'元')\n",
        "elif r >= 1000000:\n",
        "  print('付稅金額:',r*0.21,'元')\n",
        "elif r >= 600000:\n",
        "  print('付稅金額:',r*0.13,'元')\n",
        "elif r >= 300000:\n",
        "  print('付稅金額:',r*0.06,'元')\n",
        "else:\n",
        "  print('付稅金額:0元')"
      ],
      "metadata": {
        "colab": {
          "base_uri": "https://localhost:8080/"
        },
        "id": "3NJiGuMWQ1ri",
        "outputId": "679b93e3-ddb4-46dd-99a6-c8ef0d289116"
      },
      "execution_count": 6,
      "outputs": [
        {
          "output_type": "stream",
          "name": "stdout",
          "text": [
            "請輸入今年收入淨額: 2000000\n",
            "付稅金額: 600000.0 元\n"
          ]
        }
      ]
    }
  ]
}